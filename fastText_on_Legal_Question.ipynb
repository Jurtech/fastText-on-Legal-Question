{
 "cells": [
  {
   "cell_type": "markdown",
   "metadata": {},
   "source": [
    "# fastText on Legal Question\n",
    "raoxi@jurtech.xyz"
   ]
  },
  {
   "cell_type": "code",
   "execution_count": 2,
   "metadata": {},
   "outputs": [],
   "source": [
    "import numpy as np\n",
    "np.random.seed(1337)\n",
    "import sqlite3\n",
    "from keras.preprocessing import sequence\n",
    "from keras.models import Sequential\n",
    "from keras.layers import Dense, Embedding, GlobalAveragePooling1D\n",
    "from keras.datasets import imdb\n",
    "from jieba import cut, lcut, lcut_for_search\n",
    "import pickle\n",
    "from keras.utils.np_utils import to_categorical\n",
    "import matplotlib.pyplot as plt"
   ]
  },
  {
   "cell_type": "code",
   "execution_count": 11,
   "metadata": {},
   "outputs": [
    {
     "data": {
      "text/plain": [
       "100000"
      ]
     },
     "execution_count": 11,
     "metadata": {},
     "output_type": "execute_result"
    }
   ],
   "source": [
    "conn = sqlite3.connect('fastLQ.db')\n",
    "cur = conn.execute('select * from question ORDER BY RANDOM()').fetchall()\n",
    "len(cur)"
   ]
  },
  {
   "cell_type": "code",
   "execution_count": 12,
   "metadata": {
    "collapsed": true
   },
   "outputs": [],
   "source": [
    "tag = conn.execute('select  type from question group by type').fetchall()"
   ]
  },
  {
   "cell_type": "code",
   "execution_count": 13,
   "metadata": {},
   "outputs": [
    {
     "data": {
      "text/plain": [
       "68"
      ]
     },
     "execution_count": 13,
     "metadata": {},
     "output_type": "execute_result"
    }
   ],
   "source": [
    "len(tag)"
   ]
  },
  {
   "cell_type": "code",
   "execution_count": 14,
   "metadata": {},
   "outputs": [
    {
     "data": {
      "text/plain": [
       "'交通事故'"
      ]
     },
     "execution_count": 14,
     "metadata": {},
     "output_type": "execute_result"
    }
   ],
   "source": [
    "tag[1][0]"
   ]
  },
  {
   "cell_type": "code",
   "execution_count": 25,
   "metadata": {},
   "outputs": [
    {
     "data": {
      "text/plain": [
       "53999"
      ]
     },
     "execution_count": 25,
     "metadata": {},
     "output_type": "execute_result"
    }
   ],
   "source": [
    "word_list=[]\n",
    "for each in cur:\n",
    "    cutted = lcut(each[1])\n",
    "    word_list.extend(cutted)\n",
    "word_list = list(set(word_list))\n",
    "len(word_list)"
   ]
  },
  {
   "cell_type": "code",
   "execution_count": 26,
   "metadata": {},
   "outputs": [
    {
     "data": {
      "text/plain": [
       "'发生交通事故受害人死亡，按照法律上是怎么处理。'"
      ]
     },
     "execution_count": 26,
     "metadata": {},
     "output_type": "execute_result"
    }
   ],
   "source": [
    "cur[2][1]"
   ]
  },
  {
   "cell_type": "code",
   "execution_count": 27,
   "metadata": {},
   "outputs": [
    {
     "data": {
      "text/plain": [
       "'交通事故'"
      ]
     },
     "execution_count": 27,
     "metadata": {},
     "output_type": "execute_result"
    }
   ],
   "source": [
    "cur[2][2]"
   ]
  },
  {
   "cell_type": "code",
   "execution_count": 15,
   "metadata": {
    "collapsed": true
   },
   "outputs": [],
   "source": [
    "f1 = open('fate_lq_word_list.pkl', 'wb')\n",
    "pickle.dump(word_list,f1)"
   ]
  },
  {
   "cell_type": "code",
   "execution_count": 28,
   "metadata": {},
   "outputs": [
    {
     "data": {
      "text/plain": [
       "53999"
      ]
     },
     "execution_count": 28,
     "metadata": {},
     "output_type": "execute_result"
    }
   ],
   "source": [
    "word2int ={}\n",
    "for i in range(len(word_list)):\n",
    "    word2int[word_list[i]] = i\n",
    "len(word2int)"
   ]
  },
  {
   "cell_type": "code",
   "execution_count": 34,
   "metadata": {
    "collapsed": true
   },
   "outputs": [],
   "source": [
    "def text2int(token_set):\n",
    "    return [word2int.get(x,0) for x in token_set]"
   ]
  },
  {
   "cell_type": "code",
   "execution_count": 35,
   "metadata": {
    "collapsed": true
   },
   "outputs": [],
   "source": [
    "label_dict = {}\n",
    "for i in range(len(tag)):\n",
    "    label_dict[tag[i][0]] = i"
   ]
  },
  {
   "cell_type": "code",
   "execution_count": 36,
   "metadata": {
    "collapsed": true
   },
   "outputs": [],
   "source": [
    "def case_to_X_Y(content,label):\n",
    "    content_split = lcut(content)\n",
    "    X = text2int(content_split)\n",
    "    Y = label_dict.get(label)\n",
    "    return X, Y"
   ]
  },
  {
   "cell_type": "code",
   "execution_count": 37,
   "metadata": {},
   "outputs": [
    {
     "name": "stdout",
     "output_type": "stream",
     "text": [
      "100000\n"
     ]
    }
   ],
   "source": [
    "data_x_y = []\n",
    "for each in cur:\n",
    "    content =  each[1]\n",
    "    label =  each[2]\n",
    "    try:\n",
    "        x_ , y_ = case_to_X_Y(content,label)\n",
    "    except:\n",
    "        continue\n",
    "    data_x_y.append((x_,y_))\n",
    "print(len(data_x_y))"
   ]
  },
  {
   "cell_type": "code",
   "execution_count": 38,
   "metadata": {
    "collapsed": true
   },
   "outputs": [],
   "source": [
    "CLASS_TYPE =len(tag)\n",
    "def pre_process_y(y):\n",
    "    y_  = np.array(y)\n",
    "    y_ = to_categorical(y_,num_classes=CLASS_TYPE)\n",
    "    return y_"
   ]
  },
  {
   "cell_type": "code",
   "execution_count": 39,
   "metadata": {
    "collapsed": true
   },
   "outputs": [],
   "source": [
    "SAMPLE_SIZE =80000\n",
    "# DATASET\n",
    "len(data_x_y)\n",
    "data_dev = data_x_y[:SAMPLE_SIZE]\n",
    "data_test = data_x_y[SAMPLE_SIZE:]\n",
    "x_dev = [i[0] for i in data_dev]\n",
    "y_dev = [i[1] for i in data_dev]\n",
    "x_test = [i[0] for i in data_test]\n",
    "y_test = [i[1] for i in data_test]"
   ]
  },
  {
   "cell_type": "code",
   "execution_count": 40,
   "metadata": {
    "collapsed": true
   },
   "outputs": [],
   "source": [
    "max_features = len(word_list)\n",
    "maxlen = 128\n",
    "batch_size = 32\n",
    "embedding_dims = 64"
   ]
  },
  {
   "cell_type": "code",
   "execution_count": 41,
   "metadata": {
    "collapsed": true
   },
   "outputs": [],
   "source": [
    "x_dev = sequence.pad_sequences(x_dev, maxlen=maxlen)\n",
    "x_test = sequence.pad_sequences(x_test, maxlen=maxlen)\n",
    "y_dev = pre_process_y(y_dev)\n",
    "y_test = pre_process_y(y_test)"
   ]
  },
  {
   "cell_type": "code",
   "execution_count": 42,
   "metadata": {},
   "outputs": [
    {
     "data": {
      "text/plain": [
       "'婚姻家庭'"
      ]
     },
     "execution_count": 42,
     "metadata": {},
     "output_type": "execute_result"
    }
   ],
   "source": [
    "cur[1111][2]"
   ]
  },
  {
   "cell_type": "code",
   "execution_count": 43,
   "metadata": {},
   "outputs": [
    {
     "data": {
      "text/plain": [
       "array([ 0.,  0.,  0.,  0.,  0.,  0.,  0.,  0.,  0.,  0.,  0.,  0.,  0.,\n",
       "        0.,  0.,  0.,  0.,  0.,  0.,  0.,  0.,  0.,  0.,  0.,  0.,  0.,\n",
       "        1.,  0.,  0.,  0.,  0.,  0.,  0.,  0.,  0.,  0.,  0.,  0.,  0.,\n",
       "        0.,  0.,  0.,  0.,  0.,  0.,  0.,  0.,  0.,  0.,  0.,  0.,  0.,\n",
       "        0.,  0.,  0.,  0.,  0.,  0.,  0.,  0.,  0.,  0.,  0.,  0.,  0.,\n",
       "        0.,  0.,  0.])"
      ]
     },
     "execution_count": 43,
     "metadata": {},
     "output_type": "execute_result"
    }
   ],
   "source": [
    "y_dev[1111]"
   ]
  },
  {
   "cell_type": "code",
   "execution_count": 45,
   "metadata": {},
   "outputs": [
    {
     "name": "stdout",
     "output_type": "stream",
     "text": [
      "_________________________________________________________________\n",
      "Layer (type)                 Output Shape              Param #   \n",
      "=================================================================\n",
      "embedding_2 (Embedding)      (None, None, 64)          3455936   \n",
      "_________________________________________________________________\n",
      "global_average_pooling1d_2 ( (None, 64)                0         \n",
      "_________________________________________________________________\n",
      "dense_2 (Dense)              (None, 68)                4420      \n",
      "=================================================================\n",
      "Total params: 3,460,356\n",
      "Trainable params: 3,460,356\n",
      "Non-trainable params: 0\n",
      "_________________________________________________________________\n"
     ]
    }
   ],
   "source": [
    "model = Sequential()\n",
    "model.add(Embedding(input_dim=max_features, output_dim=embedding_dims))\n",
    "model.add(GlobalAveragePooling1D())\n",
    "model.add(Dense(CLASS_TYPE, activation='softmax'))\n",
    "\n",
    "model.compile(loss='categorical_crossentropy',\n",
    "              optimizer='adam',\n",
    "              metrics=['accuracy'])\n",
    "model.summary()"
   ]
  },
  {
   "cell_type": "code",
   "execution_count": 46,
   "metadata": {},
   "outputs": [
    {
     "name": "stdout",
     "output_type": "stream",
     "text": [
      "Train on 80000 samples, validate on 20000 samples\n",
      "Epoch 1/10\n",
      "80000/80000 [==============================] - 149s - loss: 2.8060 - acc: 0.2231 - val_loss: 2.5580 - val_acc: 0.3438\n",
      "Epoch 2/10\n",
      "80000/80000 [==============================] - 147s - loss: 2.2513 - acc: 0.4450 - val_loss: 2.0458 - val_acc: 0.5160\n",
      "Epoch 3/10\n",
      "80000/80000 [==============================] - 145s - loss: 1.8078 - acc: 0.5676 - val_loss: 1.7131 - val_acc: 0.5821\n",
      "Epoch 4/10\n",
      "80000/80000 [==============================] - 156s - loss: 1.5196 - acc: 0.6305 - val_loss: 1.5022 - val_acc: 0.6280\n",
      "Epoch 5/10\n",
      "80000/80000 [==============================] - 150s - loss: 1.3228 - acc: 0.6755 - val_loss: 1.3607 - val_acc: 0.6656\n",
      "Epoch 6/10\n",
      "80000/80000 [==============================] - 150s - loss: 1.1783 - acc: 0.7098 - val_loss: 1.2587 - val_acc: 0.6854\n",
      "Epoch 7/10\n",
      "80000/80000 [==============================] - 157s - loss: 1.0632 - acc: 0.7374 - val_loss: 1.1791 - val_acc: 0.7014\n",
      "Epoch 8/10\n",
      "80000/80000 [==============================] - 155s - loss: 0.9659 - acc: 0.7608 - val_loss: 1.1145 - val_acc: 0.7191\n",
      "Epoch 9/10\n",
      "80000/80000 [==============================] - 150s - loss: 0.8813 - acc: 0.7809 - val_loss: 1.0666 - val_acc: 0.7278\n",
      "Epoch 10/10\n",
      "80000/80000 [==============================] - 149s - loss: 0.8072 - acc: 0.7984 - val_loss: 1.0234 - val_acc: 0.7403\n"
     ]
    }
   ],
   "source": [
    "history = model.fit(x_dev, y_dev,\n",
    "          batch_size=batch_size,\n",
    "          validation_data=(x_test, y_test))"
   ]
  },
  {
   "cell_type": "code",
   "execution_count": 47,
   "metadata": {},
   "outputs": [
    {
     "data": {
      "image/png": "[encoded data removed]",
      "text/plain": [
       "<matplotlib.figure.Figure at 0x147d9cac6a0>"
      ]
     },
     "metadata": {},
     "output_type": "display_data"
    }
   ],
   "source": [
    "# summarize loss and accuracy\n",
    "plt.plot(history.history['loss'])\n",
    "plt.plot(history.history['val_loss'])\n",
    "plt.ylabel('Loss')\n",
    "plt.xlabel('Epoch')\n",
    "plt.legend(['loss', 'val_loss'], loc='upper left')\n",
    "plt.show()"
   ]
  },
  {
   "cell_type": "code",
   "execution_count": 48,
   "metadata": {},
   "outputs": [
    {
     "data": {
      "image/png": "[encoded data removed]",
      "text/plain": [
       "<matplotlib.figure.Figure at 0x147d9cac278>"
      ]
     },
     "metadata": {},
     "output_type": "display_data"
    }
   ],
   "source": [
    "# summarize loss and accuracy\n",
    "plt.plot(history.history['acc'])\n",
    "plt.plot(history.history['val_acc'])\n",
    "plt.ylabel('Scores')\n",
    "plt.xlabel('Epoch')\n",
    "plt.legend([ 'acc','val_acc'], loc='upper left')\n",
    "plt.show()"
   ]
  },
  {
   "cell_type": "code",
   "execution_count": 88,
   "metadata": {
    "collapsed": true
   },
   "outputs": [],
   "source": [
    "def test_case(text):\n",
    "    cutted= lcut(text)\n",
    "    X = text2int(cutted)\n",
    "    Y = model.predict(np.array([X]))\n",
    "    Y =np.argmax(Y[0])\n",
    "    for k,v in label_dict.items():\n",
    "        if v == Y:\n",
    "            print(\"C: \"+k)"
   ]
  },
  {
   "cell_type": "code",
   "execution_count": 89,
   "metadata": {},
   "outputs": [
    {
     "name": "stdout",
     "output_type": "stream",
     "text": [
      "C: 劳动纠纷\n"
     ]
    }
   ],
   "source": [
    "text1='''面试谈工资的时候，对方问你的期望薪资，如果反问对方「根据自己的能力能给多少」，合适吗？\n",
    "'''\n",
    "test_case(text1)"
   ]
  },
  {
   "cell_type": "code",
   "execution_count": 63,
   "metadata": {},
   "outputs": [
    {
     "name": "stdout",
     "output_type": "stream",
     "text": [
      "劳动纠纷\n"
     ]
    }
   ],
   "source": [
    "text2='''虚开增值税专用发票是怎么谋利的？\n",
    "'''\n",
    "test_case(text1)"
   ]
  },
  {
   "cell_type": "code",
   "execution_count": 64,
   "metadata": {},
   "outputs": [
    {
     "name": "stdout",
     "output_type": "stream",
     "text": [
      "债权债务\n"
     ]
    }
   ],
   "source": [
    "text3='''朋友欠我145万，不还怎么办？\n",
    "'''\n",
    "test_case(text3)"
   ]
  },
  {
   "cell_type": "code",
   "execution_count": 65,
   "metadata": {},
   "outputs": [
    {
     "name": "stdout",
     "output_type": "stream",
     "text": [
      "劳动纠纷\n"
     ]
    }
   ],
   "source": [
    "text4='''如何看待北京德勤癌症员工离职纠纷？\n",
    "'''\n",
    "test_case(text4)"
   ]
  },
  {
   "cell_type": "code",
   "execution_count": 66,
   "metadata": {},
   "outputs": [
    {
     "name": "stdout",
     "output_type": "stream",
     "text": [
      "婚姻家庭\n"
     ]
    }
   ],
   "source": [
    "text5='''我怀孕了，但他离不了婚，怎么办？\n",
    "'''\n",
    "test_case(text5)"
   ]
  },
  {
   "cell_type": "code",
   "execution_count": 67,
   "metadata": {},
   "outputs": [
    {
     "name": "stdout",
     "output_type": "stream",
     "text": [
      "婚姻家庭\n"
     ]
    }
   ],
   "source": [
    "text6='''老婆脾气暴不懂事，经常吵架，现在有孩子了又不能离婚，很痛苦怎么办？\n",
    "'''\n",
    "test_case(text6)"
   ]
  },
  {
   "cell_type": "code",
   "execution_count": 68,
   "metadata": {},
   "outputs": [
    {
     "name": "stdout",
     "output_type": "stream",
     "text": [
      "公司犯罪\n"
     ]
    }
   ],
   "source": [
    "text7='''公司注册资本多少是什么概念？\n",
    "'''\n",
    "test_case(text7)"
   ]
  },
  {
   "cell_type": "code",
   "execution_count": 69,
   "metadata": {},
   "outputs": [
    {
     "name": "stdout",
     "output_type": "stream",
     "text": [
      "土地纠纷\n"
     ]
    }
   ],
   "source": [
    "text8='''农村自建房的土地使用证可以过户吗？程序如何？\n",
    "'''\n",
    "test_case(text8)"
   ]
  },
  {
   "cell_type": "code",
   "execution_count": 70,
   "metadata": {},
   "outputs": [
    {
     "name": "stdout",
     "output_type": "stream",
     "text": [
      "债权债务\n"
     ]
    }
   ],
   "source": [
    "text9='''如何利用法院强制执行来追讨债务？\n",
    "'''\n",
    "test_case(text9)"
   ]
  },
  {
   "cell_type": "code",
   "execution_count": 71,
   "metadata": {},
   "outputs": [
    {
     "name": "stdout",
     "output_type": "stream",
     "text": [
      "房产纠纷\n"
     ]
    }
   ],
   "source": [
    "text10='''开发商破产，我已经弃房断供了两年了，现在该怎么办？\n",
    "'''\n",
    "test_case(text10)"
   ]
  },
  {
   "cell_type": "code",
   "execution_count": 72,
   "metadata": {},
   "outputs": [
    {
     "name": "stdout",
     "output_type": "stream",
     "text": [
      "刑事辩护\n"
     ]
    }
   ],
   "source": [
    "text11='''鸦片、大麻、海洛因、冰毒的区别是什么？\n",
    "'''\n",
    "test_case(text11)"
   ]
  }
 ],
 "metadata": {
  "kernelspec": {
   "display_name": "Python 3",
   "language": "python",
   "name": "python3"
  },
  "language_info": {
   "codemirror_mode": {
    "name": "ipython",
    "version": 3
   },
   "file_extension": ".py",
   "mimetype": "text/x-python",
   "name": "python",
   "nbconvert_exporter": "python",
   "pygments_lexer": "ipython3",
   "version": "3.5.3"
  }
 },
 "nbformat": 4,
 "nbformat_minor": 2
}
